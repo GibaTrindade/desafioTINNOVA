{
 "cells": [
  {
   "cell_type": "code",
   "execution_count": 12,
   "metadata": {},
   "outputs": [],
   "source": [
    "def bubbleSort(listaDesordenada):\n",
    "    for numero in range(len(listaDesordenada)-1,0,-1):\n",
    "        for i in range(numero):\n",
    "            if listaDesordenada[i]>listaDesordenada[i+1]:\n",
    "                listaDesordenada[i], listaDesordenada[i+1] = listaDesordenada[i+1],  listaDesordenada[i]"
   ]
  },
  {
   "cell_type": "code",
   "execution_count": 13,
   "metadata": {},
   "outputs": [
    {
     "name": "stdout",
     "output_type": "stream",
     "text": [
      "[0, 1, 2, 3, 4, 5, 6, 7]\n"
     ]
    }
   ],
   "source": [
    "listaDesordenada = [5, 3, 2, 4, 7, 1, 0, 6]\n",
    "bubbleSort(listaDesordenada)\n",
    "print(listaDesordenada)"
   ]
  },
  {
   "cell_type": "code",
   "execution_count": null,
   "metadata": {},
   "outputs": [],
   "source": []
  }
 ],
 "metadata": {
  "kernelspec": {
   "display_name": "Python 3 (ipykernel)",
   "language": "python",
   "name": "python3"
  },
  "language_info": {
   "codemirror_mode": {
    "name": "ipython",
    "version": 3
   },
   "file_extension": ".py",
   "mimetype": "text/x-python",
   "name": "python",
   "nbconvert_exporter": "python",
   "pygments_lexer": "ipython3",
   "version": "3.10.0"
  }
 },
 "nbformat": 4,
 "nbformat_minor": 4
}
