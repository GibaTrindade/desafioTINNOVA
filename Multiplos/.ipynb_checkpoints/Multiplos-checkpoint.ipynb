{
 "cells": [
  {
   "cell_type": "code",
   "execution_count": 34,
   "metadata": {},
   "outputs": [],
   "source": [
    "def somaMultiplos(x):\n",
    "    #Declara e inicia uma lista vazia\n",
    "    multiplos=[]\n",
    "    #Itera uma lista de 0 até X\n",
    "    for numero in range(x):\n",
    "        '''Para cada número da lista, se módulo 3 ou 5 desse número for 0,\n",
    "           acrescenta-o na lista\n",
    "        '''\n",
    "        if numero%3 == 0:\n",
    "            multiplos.append(numero)\n",
    "        elif numero%5 == 0:\n",
    "            multiplos.append(numero)\n",
    "    return sum(multiplos)"
   ]
  },
  {
   "cell_type": "code",
   "execution_count": 37,
   "metadata": {},
   "outputs": [],
   "source": [
    "somaMultiplus = somaMultiplos(10)"
   ]
  },
  {
   "cell_type": "code",
   "execution_count": 38,
   "metadata": {},
   "outputs": [
    {
     "name": "stdout",
     "output_type": "stream",
     "text": [
      "23\n"
     ]
    }
   ],
   "source": [
    "print(somaMultiplus)"
   ]
  },
  {
   "cell_type": "code",
   "execution_count": null,
   "metadata": {},
   "outputs": [],
   "source": []
  }
 ],
 "metadata": {
  "kernelspec": {
   "display_name": "Python 3 (ipykernel)",
   "language": "python",
   "name": "python3"
  },
  "language_info": {
   "codemirror_mode": {
    "name": "ipython",
    "version": 3
   },
   "file_extension": ".py",
   "mimetype": "text/x-python",
   "name": "python",
   "nbconvert_exporter": "python",
   "pygments_lexer": "ipython3",
   "version": "3.8.3"
  }
 },
 "nbformat": 4,
 "nbformat_minor": 4
}
