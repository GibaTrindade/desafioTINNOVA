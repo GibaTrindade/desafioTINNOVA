{
 "cells": [
  {
   "cell_type": "code",
   "execution_count": 1,
   "metadata": {},
   "outputs": [],
   "source": [
    "class Urna:\n",
    "    #Inicializa as variáveis da Classe\n",
    "    def __init__(self, total_eleitores, votos_validos, votos_brancos, votos_nulos):\n",
    "        self.total_eleitores = total_eleitores\n",
    "        self.votos_validos = votos_validos\n",
    "        self.votos_brancos = votos_brancos\n",
    "        self.votos_nulos = votos_nulos\n",
    "\n",
    "    #Calcula o percentual de votos válidos em relação ao total de eleitores\n",
    "    def percentualValidos(self):\n",
    "        percentualValidos = self.votos_validos / self.total_eleitores\n",
    "        return percentualValidos\n",
    "\n",
    "    #Calcula o percentual de votos brancos em relação ao total de eleitores\n",
    "    def percentualBrancos(self):\n",
    "        percentualBrancos = self.votos_brancos /self.total_eleitores\n",
    "        return percentualBrancos\n",
    "\n",
    "    #Calcula o percentual de votos nulos em relação ao total de eleitores\n",
    "    def percentualNulos(self):\n",
    "        percentualNulos = self.votos_nulos / self.total_eleitores\n",
    "        return (percentualNulos)\n",
    "\n"
   ]
  },
  {
   "cell_type": "code",
   "execution_count": 2,
   "metadata": {},
   "outputs": [],
   "source": [
    "urna = Urna(1000, 800, 150, 50)"
   ]
  },
  {
   "cell_type": "code",
   "execution_count": 3,
   "metadata": {},
   "outputs": [
    {
     "name": "stdout",
     "output_type": "stream",
     "text": [
      "Percentual de votos válidos em relação ao total de eleitores:  80%\n",
      "Percentual de brancos em relação ao total de eleitores:  15%\n",
      "Percentual de votos nulos em relação ao total de eleitores:  5%\n"
     ]
    }
   ],
   "source": [
    "print(\"Percentual de votos válidos em relação ao total de eleitores: \", \"{:.0%}\".format(urna.percentualValidos()))\n",
    "print(\"Percentual de brancos em relação ao total de eleitores: \", \"{:.0%}\".format(urna.percentualBrancos()))\n",
    "print(\"Percentual de votos nulos em relação ao total de eleitores: \", \"{:.0%}\".format(urna.percentualNulos()))"
   ]
  },
  {
   "cell_type": "code",
   "execution_count": null,
   "metadata": {},
   "outputs": [],
   "source": []
  },
  {
   "cell_type": "code",
   "execution_count": null,
   "metadata": {},
   "outputs": [],
   "source": []
  }
 ],
 "metadata": {
  "kernelspec": {
   "display_name": "Python 3 (ipykernel)",
   "language": "python",
   "name": "python3"
  },
  "language_info": {
   "codemirror_mode": {
    "name": "ipython",
    "version": 3
   },
   "file_extension": ".py",
   "mimetype": "text/x-python",
   "name": "python",
   "nbconvert_exporter": "python",
   "pygments_lexer": "ipython3",
   "version": "3.10.0"
  }
 },
 "nbformat": 4,
 "nbformat_minor": 4
}
